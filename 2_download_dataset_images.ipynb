{
 "cells": [
  {
   "cell_type": "code",
   "execution_count": null,
   "id": "d09bc4a9-e521-4e8b-ad9d-3b5e2c11432c",
   "metadata": {},
   "outputs": [],
   "source": [
    "!wget -c http://images.cocodataset.org/zips/train2017.zip\n",
    "!unzip -o train2017.zip\n",
    "!wget -c http://images.cocodataset.org/zips/val2017.zip\n",
    "!unzip -o val2017.zip"
   ]
  },
  {
   "cell_type": "code",
   "execution_count": null,
   "id": "ceac48ad-89ca-4232-a502-babad1a41e57",
   "metadata": {},
   "outputs": [],
   "source": [
    "import pandas as pd\n",
    "df= pd.read_csv(\"/content/dalle-tiny/tools/train/validation.csv\")\n",
    "import os\n",
    "\n",
    "for index, (file_name,caption) in df.iterrows():\n",
    "  os.rename(\"/content/val2017/\"+file_name,'/content/archive_val/'+file_name)"
   ]
  },
  {
   "cell_type": "code",
   "execution_count": null,
   "id": "23c61cc5-1989-4eaf-89ca-87651ca497b2",
   "metadata": {},
   "outputs": [],
   "source": [
    "!mkdir archive_val"
   ]
  },
  {
   "cell_type": "code",
   "execution_count": null,
   "id": "11b4c90d-c10b-4704-bdc1-30d2eff0b368",
   "metadata": {},
   "outputs": [],
   "source": [
    "!zip -r archive_val.zip archive_val/"
   ]
  }
 ],
 "metadata": {
  "kernelspec": {
   "display_name": "Python 3",
   "language": "python",
   "name": "python3"
  },
  "language_info": {
   "codemirror_mode": {
    "name": "ipython",
    "version": 3
   },
   "file_extension": ".py",
   "mimetype": "text/x-python",
   "name": "python",
   "nbconvert_exporter": "python",
   "pygments_lexer": "ipython3",
   "version": "3.7.9"
  }
 },
 "nbformat": 4,
 "nbformat_minor": 5
}
