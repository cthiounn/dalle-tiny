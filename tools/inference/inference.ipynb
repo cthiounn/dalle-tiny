{
 "cells": [
  {
   "cell_type": "code",
   "execution_count": null,
   "id": "49088383-3f42-48e6-8338-26bc4059b6a9",
   "metadata": {},
   "outputs": [],
   "source": [
    "from transformers import BartTokenizer\n",
    "caption=\"a field of grass and sunflowers\"\n",
    "tokenizer=BartTokenizer.from_pretrained('facebook/bart-large-cnn')\n",
    "inputs=tokenizer(caption, return_tensors=\"pt\",max_length=255,padding=\"max_length\")\n",
    "inputs=inputs.to(device)"
   ]
  },
  {
   "cell_type": "code",
   "execution_count": null,
   "id": "a4423dd7-4d70-4d5b-9625-f5f5d360cec2",
   "metadata": {},
   "outputs": [],
   "source": [
    "output_indices=model.generate(**inputs, do_sample=True, num_beams=1)\n"
   ]
  },
  {
   "cell_type": "code",
   "execution_count": null,
   "id": "f8441ada-c25d-449d-a475-6fe8220df0d5",
   "metadata": {},
   "outputs": [],
   "source": [
    "import matplotlib.pyplot as plt\n",
    "z_q = model.quantize.embedding(output_indices).reshape(1, 16, 16, 256).permute(0,3,1,2)\n",
    "u=model.decode(z_q).add(1).div(2).cpu().squeeze().permute(1, 2, 0)\n",
    "plt.imshow(u)"
   ]
  }
 ],
 "metadata": {
  "kernelspec": {
   "display_name": "Python 3",
   "language": "python",
   "name": "python3"
  },
  "language_info": {
   "codemirror_mode": {
    "name": "ipython",
    "version": 3
   },
   "file_extension": ".py",
   "mimetype": "text/x-python",
   "name": "python",
   "nbconvert_exporter": "python",
   "pygments_lexer": "ipython3",
   "version": "3.7.9"
  }
 },
 "nbformat": 4,
 "nbformat_minor": 5
}
