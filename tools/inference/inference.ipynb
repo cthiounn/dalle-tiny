{
 "cells": [
  {
   "cell_type": "code",
   "execution_count": null,
   "id": "b02071ca-bd7a-4471-8287-57e04339bb75",
   "metadata": {},
   "outputs": [],
   "source": [
    "%pip install -q git+https://github.com/CompVis/taming-transformers.git\n",
    "!git clone https://github.com/CompVis/taming-transformers.git && cd taming-transformers && python -m pip install -e .\n",
    "%pip install \"omegaconf>=2.0.0\" \"pytorch-lightning>=1.0.8\" einops transformers imageio-ffmpeg\n",
    "%pip install -q git+https://github.com/cthiounn/dalle-tiny.git\n",
    "\n",
    "!curl -L \"https://huggingface.co/boris/vqgan_f16_16384/raw/main/config.yaml\" > \"config_vqgan_minidalle.yaml\"\n",
    "!curl -L \"https://huggingface.co/boris/vqgan_f16_16384/resolve/main/model.ckpt\" > \"model_vqgan_minidalle.ckpt\"\n",
    "\n",
    "import os\n",
    "os._exit(00)"
   ]
  },
  {
   "cell_type": "code",
   "execution_count": null,
   "id": "1b056556-2dab-4820-ab9b-b12987a56e6e",
   "metadata": {},
   "outputs": [],
   "source": [
    "import sys\n",
    "sys.path.append(\".\")\n",
    "\n",
    "# also disable grad to save memory\n",
    "from omegaconf import OmegaConf\n",
    "import taming\n",
    "from taming.models.vqgan import VQModel\n",
    "import torch\n",
    "torch.set_grad_enabled(False)\n",
    "\n",
    "DEVICE = torch.device(\"cuda:0\" if torch.cuda.is_available() else \"cpu\")\n",
    "\n",
    "\n",
    "\n",
    "config_path = \"config_vqgan_minidalle.yaml\"\n",
    "config = OmegaConf.load(config_path)\n",
    "vqmodel=VQModel(**config.model.params).to(DEVICE)\n",
    "\n",
    "ckpt_path = \"model_vqgan_minidalle.ckpt\"\n",
    "\n",
    "sd = torch.load(ckpt_path, map_location=DEVICE)[\"state_dict\"]\n",
    "vqmodel.load_state_dict(sd, strict=False)"
   ]
  },
  {
   "cell_type": "code",
   "execution_count": null,
   "id": "1feb122c-641f-42a8-b5ff-6618928b2e1b",
   "metadata": {},
   "outputs": [],
   "source": [
    "from dalle_tiny.model import TinyDalleModel\n",
    "import torch\n",
    "import torch.optim as optim\n",
    "import torch.nn.functional as F\n",
    "from torch.utils.data import DataLoader\n",
    "\n",
    "device = 'cuda' if torch.cuda.is_available() else 'cpu'\n",
    "\n",
    "from transformers import BartForConditionalGeneration\n",
    "\n",
    "model=TinyDalleModel.from_pretrained('facebook/bart-large-cnn')\n",
    "model.reinit_lm_head_for_images()\n",
    "model.final_logits_bias=torch.rand(16384)\n",
    "model.final_logits_bias[:]=0\n"
   ]
  },
  {
   "cell_type": "code",
   "execution_count": null,
   "id": "49088383-3f42-48e6-8338-26bc4059b6a9",
   "metadata": {},
   "outputs": [],
   "source": [
    "from transformers import BartTokenizer\n",
    "caption=\"a field of grass and sunflowers\"\n",
    "tokenizer=BartTokenizer.from_pretrained('facebook/bart-large-cnn')\n",
    "inputs=tokenizer(caption, return_tensors=\"pt\",max_length=255,padding=\"max_length\")\n",
    "inputs=inputs.to(device)"
   ]
  },
  {
   "cell_type": "code",
   "execution_count": null,
   "id": "a4423dd7-4d70-4d5b-9625-f5f5d360cec2",
   "metadata": {},
   "outputs": [],
   "source": [
    "import matplotlib.pyplot as plt\n",
    "\n",
    "\n",
    "model.load_state_dict(torch.load('checkpoint_115.pth',map_location=device))\n",
    "model.eval()\n",
    "model=model.to(device)\n",
    "pred=model.generate(**inputs, do_sample=True, top_k=100)\n",
    "print(pred)\n",
    "pred=pred.detach()\n",
    "pred=pred.squeeze()\n",
    "output_indices=torch.Tensor(256)\n",
    "output_indices[:]=0\n",
    "output_indices[:141]=pred[1:]\n",
    "output_indices=output_indices.to(torch.int)\n",
    "output_indices.to(\"cpu\")\n",
    "vqmodel=vqmodel.to(\"cpu\")\n",
    "\n",
    "\n",
    "z_q = vqmodel.quantize.embedding(output_indices).reshape(1, 16, 16, 256).permute(0,3,1,2)\n",
    "u=vqmodel.decode(z_q).add(1).div(2).cpu().squeeze().permute(1, 2, 0)\n",
    "plt.imshow(u)"
   ]
  }
 ],
 "metadata": {
  "kernelspec": {
   "display_name": "Python 3",
   "language": "python",
   "name": "python3"
  },
  "language_info": {
   "codemirror_mode": {
    "name": "ipython",
    "version": 3
   },
   "file_extension": ".py",
   "mimetype": "text/x-python",
   "name": "python",
   "nbconvert_exporter": "python",
   "pygments_lexer": "ipython3",
   "version": "3.7.9"
  }
 },
 "nbformat": 4,
 "nbformat_minor": 5
}
