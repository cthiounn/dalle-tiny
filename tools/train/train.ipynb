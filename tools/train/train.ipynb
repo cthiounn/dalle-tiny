{
 "cells": [
  {
   "cell_type": "code",
   "execution_count": null,
   "id": "2b280fc1-bcf6-4741-b004-57c6a6d5e28a",
   "metadata": {},
   "outputs": [],
   "source": [
    "%pip install -q transformers\n",
    "%pip install -q git+https://github.com/cthiounn/dalle-tiny.git\n",
    "%pip install -q wandb\n",
    "%pip install -q hivemind\n",
    "%pip install --upgrade torch"
   ]
  },
  {
   "cell_type": "code",
   "execution_count": null,
   "id": "18c73243-6d9a-45ad-b280-8a092efecea6",
   "metadata": {},
   "outputs": [],
   "source": [
    "WANDB_KEY=\"\"\n",
    "S3_BUCKET=\"\"\n",
    "CUSTOM_SAVE_FILE_NAME=\"\""
   ]
  },
  {
   "cell_type": "code",
   "execution_count": null,
   "id": "600394e0-8397-4772-9f45-e4987c62e3bc",
   "metadata": {},
   "outputs": [],
   "source": [
    "# !wandb login $WANDB_KEY"
   ]
  },
  {
   "cell_type": "code",
   "execution_count": null,
   "id": "6ac55c66-e2a7-4a95-b739-ea2341b54b03",
   "metadata": {},
   "outputs": [],
   "source": [
    "# import wandb\n",
    "\n",
    "# # wandb.init(project=\"my-test-project\", entity=\"cthiounn\",id=\"1piyh3bl\",resume=\"must\")\n",
    "# wandb.init(project=\"my-test-project\", entity=\"cthiounn\")\n",
    "# wandb.config = {\n",
    "#   \"learning_rate\": 5e-5,\n",
    "#   \"epochs\": 200,\n",
    "#   \"batch_size\": 5\n",
    "# }"
   ]
  },
  {
   "cell_type": "code",
   "execution_count": null,
   "id": "d93bc283-0acd-4e90-b1ba-5a18c1119fed",
   "metadata": {},
   "outputs": [],
   "source": [
    "from tqdm import tqdm\n",
    "import s3fs\n",
    "import os\n",
    "\n",
    "S3_ENDPOINT_URL = \"https://\" + os.environ[\"AWS_S3_ENDPOINT\"]\n",
    "fs = s3fs.S3FileSystem(client_kwargs={'endpoint_url': S3_ENDPOINT_URL})\n",
    "\n",
    "def write_file_to_s3(bucket_name:str,dir_file:str,file_name:str,fs:s3fs.core.S3FileSystem):\n",
    "    if bucket_name and file_name and fs:\n",
    "        FILE_PATH_OUT_S3 = bucket_name + \"/\" + file_name\n",
    "        with fs.open(FILE_PATH_OUT_S3, 'wb') as file_out , open(dir_file+file_name, 'rb') as file_in:\n",
    "            file_out.write(file_in.read())\n",
    "            \n",
    "files=['config.json','pytorch_model.bin']\n",
    "for file in tqdm(files):\n",
    "    with fs.open(f'{S3_BUCKET}/{file}', mode=\"rb\") as file_in, open(file,\"wb\") as file_out:\n",
    "            file_out.write(file_in.read())\n"
   ]
  },
  {
   "cell_type": "code",
   "execution_count": null,
   "id": "7a9b1f33-efcf-4a85-820f-87f5a0f762be",
   "metadata": {},
   "outputs": [],
   "source": [
    "from dalle_tiny.model import TinyDalleModel\n",
    "from dalle_tiny.util import TinyDalleDataset\n",
    "import torch\n",
    "import torch.optim as optim\n",
    "import torch.nn.functional as F\n",
    "from torch.utils.data import DataLoader\n",
    "\n",
    "device = 'cuda' if torch.cuda.is_available() else 'cpu'\n",
    "torch.cuda.manual_seed_all(42)\n",
    "torch.manual_seed(42)\n",
    "\n",
    "training_data = TinyDalleDataset(parquet_file=\"https://github.com/cthiounn/dalle-tiny/raw/main/archive_train.parquet\",dataset_type=\"train\")\n",
    "test_data = TinyDalleDataset(parquet_file=\"https://github.com/cthiounn/dalle-tiny/raw/main/archive_val.parquet\",dataset_type=\"val\")\n",
    "\n",
    "train_dataloader = DataLoader(training_data, batch_size=5, shuffle=True)\n",
    "test_dataloader = DataLoader(test_data, batch_size=5)\n"
   ]
  },
  {
   "cell_type": "code",
   "execution_count": null,
   "id": "33365f29-6568-4262-9a66-33832e3c0e5f",
   "metadata": {},
   "outputs": [],
   "source": [
    "from tqdm import tqdm\n",
    "from transformers import BartForConditionalGeneration\n",
    "import gc\n",
    "\n",
    "import torch.nn as nn\n",
    "\n",
    "torch.backends.cudnn.benchmark = True\n",
    "\n",
    "# def freeze_params(model):\n",
    "#     for par in model.parameters():\n",
    "#         par.requires_grad = False\n",
    "\n",
    "#del model\n",
    "gc.collect()\n",
    "torch.cuda.empty_cache()\n",
    "\n",
    "try :\n",
    "    model=TinyDalleModel.from_pretrained('.')\n",
    "except:\n",
    "    model=TinyDalleModel.from_pretrained('facebook/bart-large-cnn')\n",
    "\n",
    "model.reinit_model_for_images()\n",
    "model=model.to(device)\n",
    "# freeze_params(model.get_encoder())\n",
    "model.train()\n",
    "optimizer = optim.AdamW(model.parameters(), betas=(0.9, 0.999), eps=1e-8, weight_decay=0.01, lr=5e-5)\n",
    "\n",
    "loss_function = nn.CrossEntropyLoss()\n",
    "\n",
    "def loss_fn(logits, labels):\n",
    "    batch_size=logits.shape[0]\n",
    "    seq_size=logits.shape[1]\n",
    "    embed_size=logits.shape[2]\n",
    "    return loss_function(logits.reshape((batch_size*seq_size,embed_size)), labels.reshape(batch_size*seq_size))"
   ]
  },
  {
   "cell_type": "code",
   "execution_count": null,
   "id": "0f461018-a745-4427-8340-5ea9804dd49f",
   "metadata": {},
   "outputs": [],
   "source": [
    "import hivemind\n",
    "dht = hivemind.DHT(start=True)\n",
    "print(\"To join the training, use initial_peers =\", [str(addr) for addr in dht.get_visible_maddrs()])"
   ]
  },
  {
   "cell_type": "code",
   "execution_count": null,
   "id": "394cf3fd-7cd1-44fe-8dc8-f971ce2db847",
   "metadata": {},
   "outputs": [],
   "source": [
    "# Set up a decentralized optimizer that will average with peers in background\n",
    "opt = hivemind.Optimizer(\n",
    "    dht=dht,                  # use a DHT that is connected with other peers\n",
    "    run_id='tinydalle_run',    # unique identifier of this collaborative run\n",
    "    batch_size_per_step=5,   # each call to opt.step adds this many samples towards the next epoch\n",
    "    target_batch_size=10000,  # after peers collectively process this many samples, average weights and begin the next epoch \n",
    "    optimizer=optimizer,            # wrap the SGD optimizer defined above\n",
    "    use_local_updates=True,   # perform optimizer steps with local gradients, average parameters in background\n",
    "    matchmaking_time=3.0,     # when averaging parameters, gather peers in background for up to this many seconds\n",
    "    averaging_timeout=10.0,   # give up on averaging if not successful in this many seconds\n",
    "    verbose=True              # print logs incessently\n",
    ")"
   ]
  },
  {
   "cell_type": "code",
   "execution_count": null,
   "id": "8cdeadd8-6399-4b4e-b85c-41cb24994e7f",
   "metadata": {},
   "outputs": [],
   "source": [
    "num_batches_test = len(test_dataloader)\n",
    "\n",
    "# wandb.watch(model)\n",
    "\n",
    "i=0\n",
    "while True:\n",
    "    for batch in tqdm(train_dataloader):\n",
    "        opt.zero_grad()\n",
    "        caption,label =batch\n",
    "        inp=caption.to(device)\n",
    "        lab=label[0].to(device)\n",
    "        shifted_label=model.prepare_decoder_input_ids_from_labels(lab).to(device)\n",
    "        predict=model(input_ids=inp, decoder_input_ids =shifted_label)\n",
    "        loss = loss_fn(predict.logits,lab)\n",
    "        loss.backward()\n",
    "        opt.step() \n",
    "#         i+=1\n",
    "#         if i%100==0:\n",
    "#             wandb.log({\"train_loss\": loss.item()})\n",
    "#             print(f\"train_loss:{loss.item()}\")\n",
    "#             test_loss=0\n",
    "#             with torch.no_grad():\n",
    "#                 for batch in tqdm(test_dataloader): \n",
    "#                     caption,label =batch\n",
    "#                     inp=caption.to(device)\n",
    "#                     lab=label[0].to(device)\n",
    "#                     shifted_label=model.prepare_decoder_input_ids_from_labels(lab).to(device)\n",
    "#                     predict=model(input_ids=inp, decoder_input_ids =shifted_label)\n",
    "#                     loss = loss_fn(predict.logits, lab)\n",
    "#                     test_loss += loss.item()\n",
    "#                     del inp, lab, predict, loss, shifted_label\n",
    "#                     torch.cuda.empty_cache()\n",
    "\n",
    "#                 mean_test_loss=test_loss/num_batches_test\n",
    "#                 wandb.log({\"mean test_loss\": mean_test_loss})\n",
    "#                 print(f\"mean test loss:{mean_test_loss}\")\n",
    "\n",
    "#                 file_name=f\"../../checkpoint_{CUSTOM_SAVE_FILE_NAME}_{epoch}.pth\"\n",
    "#                 torch.save(model.state_dict(),file_name)\n",
    "#                 try:\n",
    "#                     write_file_to_s3(S3_BUCKET,\"../../\",f\"checkpoint_{CUSTOM_SAVE_FILE_NAME}_{epoch}.pth\",fs)\n",
    "#                 except:\n",
    "#                     print(f\"can't write {file_name}\")\n",
    "        \n",
    "        \n",
    "        del inp, lab, predict, loss, shifted_label\n",
    "        torch.cuda.empty_cache()\n",
    "\n",
    "        \n",
    "\n",
    "\n",
    "    "
   ]
  }
 ],
 "metadata": {
  "kernelspec": {
   "display_name": "Python 3",
   "language": "python",
   "name": "python3"
  },
  "language_info": {
   "codemirror_mode": {
    "name": "ipython",
    "version": 3
   },
   "file_extension": ".py",
   "mimetype": "text/x-python",
   "name": "python",
   "nbconvert_exporter": "python",
   "pygments_lexer": "ipython3",
   "version": "3.7.9"
  }
 },
 "nbformat": 4,
 "nbformat_minor": 5
}
