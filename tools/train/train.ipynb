{
 "cells": [
  {
   "cell_type": "code",
   "execution_count": null,
   "id": "2b280fc1-bcf6-4741-b004-57c6a6d5e28a",
   "metadata": {},
   "outputs": [],
   "source": [
    "%pip install -q transformers"
   ]
  },
  {
   "cell_type": "code",
   "execution_count": null,
   "id": "7a9b1f33-efcf-4a85-820f-87f5a0f762be",
   "metadata": {},
   "outputs": [],
   "source": [
    "from dalle_tiny.model import TinyDalleModel\n",
    "from dalle_tiny.util import TinyDalleDataset\n",
    "import torch\n",
    "import torch.optim as optim\n",
    "import torch.nn.functional as F\n",
    "from torch.utils.data import DataLoader\n",
    "\n",
    "device = 'cuda' if torch.cuda.is_available() else 'cpu'\n",
    "torch.cuda.manual_seed_all(42)\n",
    "torch.manual_seed(42)\n",
    "\n",
    "training_data = TinyDalleDataset(parquet_file=\"https://github.com/cthiounn/dalle-tiny/raw/main/archive_train.parquet\",dataset_type=\"train\")\n",
    "#test_data = TinyDalleDataset(csv_file=\"validation.csv\",dataset_type=\"val\")\n",
    "\n",
    "train_dataloader = DataLoader(training_data, batch_size=10, shuffle=True)\n"
   ]
  },
  {
   "cell_type": "code",
   "execution_count": null,
   "id": "8cdeadd8-6399-4b4e-b85c-41cb24994e7f",
   "metadata": {},
   "outputs": [],
   "source": [
    "from tqdm import tqdm\n",
    "from transformers import BartForConditionalGeneration\n",
    "import gc\n",
    "\n",
    "def freeze_params(model):\n",
    "    for par in model.parameters():\n",
    "        par.requires_grad = False\n",
    "\n",
    "#del model\n",
    "gc.collect()\n",
    "torch.cuda.empty_cache()\n",
    "model=TinyDalleModel.from_pretrained('facebook/bart-large-cnn')\n",
    "model.reinit_lm_head_for_images()\n",
    "model=model.to(device)\n",
    "freeze_params(model.get_encoder())\n",
    "model.train()\n",
    "\n",
    "for epoch in range(5):\n",
    "    total_loss=0\n",
    "    for batch in tqdm(train_dataloader):\n",
    "        caption,label =batch\n",
    "        inp=caption.to(device)\n",
    "        lab=label[0].to(device)\n",
    "        predict=model(input_ids=inp, decoder_input_ids =lab)\n",
    "        print(predict)\n",
    "        break"
   ]
  }
 ],
 "metadata": {
  "kernelspec": {
   "display_name": "Python 3",
   "language": "python",
   "name": "python3"
  },
  "language_info": {
   "codemirror_mode": {
    "name": "ipython",
    "version": 3
   },
   "file_extension": ".py",
   "mimetype": "text/x-python",
   "name": "python",
   "nbconvert_exporter": "python",
   "pygments_lexer": "ipython3",
   "version": "3.7.9"
  }
 },
 "nbformat": 4,
 "nbformat_minor": 5
}
