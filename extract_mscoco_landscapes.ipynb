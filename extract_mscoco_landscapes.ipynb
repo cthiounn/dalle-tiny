{
 "cells": [
  {
   "cell_type": "code",
   "execution_count": null,
   "id": "cac11a57-5042-4307-bec8-c9eef38553a3",
   "metadata": {},
   "outputs": [],
   "source": [
    "!wget -c http://images.cocodataset.org/annotations/annotations_trainval2017.zip\n",
    "!unzip -o annotations_trainval2017.zip"
   ]
  },
  {
   "cell_type": "code",
   "execution_count": null,
   "id": "63f44ed9-a46e-449c-9eed-667f116a57da",
   "metadata": {},
   "outputs": [],
   "source": [
    "import re\n",
    "import json\n",
    "import pandas as pd\n",
    "\n",
    "img_to_check=[]\n",
    "KEYWORDS=['garden','park[s ]','landscape','view','sand[sy ]','grass[sy ]','snow[sy ]','wind[sy ]','mountain','valley','waterfall','forest','city','hill','valley','^sky', ' sky ','cliff',' ridge','mist[sy ]','cloud[sy ]','lake','countryside','sea','ocean','beach']\n",
    "EXCLUSION_KEYWORDS=['sheep','banana','orange','kitchen','overhead','pizza','sandwich','plate','side','rear','individual','dog','cat','zebra','people','couple','plane','man', 'men','giraffe','adult','tourist','elephant', 'bear','boy','kid','bird','child','horse','food','person','toilet','sheep','guy','animal','girl','toddler','cow','male','young','one','two','three','herd','lamb','fruit','room','passenger','gull', 'swan','skier']\n",
    "with open('./annotations/captions_val2017.json') as json_file:\n",
    "    data = json.load(json_file)\n",
    "\n",
    "df= pd.DataFrame(data['annotations'])\n",
    "df2=df[df['caption'].str.contains('|'.join(KEYWORDS),flags=re.IGNORECASE) & ~ df['caption'].str.contains('|'.join(EXCLUSION_KEYWORDS),flags=re.IGNORECASE) ]\n",
    "df2\n",
    "\n",
    "img_to_check.extend([(k['coco_url'],k['id']) for k in data['images'] if k['id'] in set(df2['image_id'])])\n",
    "\n",
    "\n",
    "with open('./annotations/captions_train2017.json') as json_file:\n",
    "    data = json.load(json_file)\n",
    "\n",
    "df= pd.DataFrame(data['annotations'])\n",
    "df3=df[df['caption'].str.contains('|'.join(KEYWORDS),flags=re.IGNORECASE) & ~ df['caption'].str.contains('|'.join(EXCLUSION_KEYWORDS),flags=re.IGNORECASE) ]\n",
    "df3\n",
    "\n",
    "img_to_check2=((k['coco_url'],k['id']) for k in data['images'] if k['id'] in set(df3['image_id']))"
   ]
  },
  {
   "cell_type": "code",
   "execution_count": null,
   "id": "b34ae27c-7a5f-47e2-a144-921691a23ad0",
   "metadata": {},
   "outputs": [],
   "source": [
    "df_val_pair=df2.drop_duplicates(subset = ['image_id'], keep = 'first') \n",
    "df_val_pair[\"file_name\"]=df_val_pair.apply(lambda x: str(x.image_id).zfill(12)+'.jpg', axis=1)\n",
    "df_val_pair=df_val_pair.reset_index().set_index(\"file_name\")\n",
    "df_val_pair=df_val_pair.drop(columns=['index','id','image_id'])\n",
    "df_val_pair\n",
    "\n",
    "df_train_pair=df3.drop_duplicates(subset = ['image_id'], keep = 'first') \n",
    "df_train_pair[\"file_name\"]=df_train_pair.apply(lambda x: str(x.image_id).zfill(12)+'.jpg', axis=1)\n",
    "df_train_pair=df_train_pair.reset_index().set_index(\"file_name\")\n",
    "df_train_pair=df_train_pair.drop(columns=['index','id','image_id'])\n",
    "df_train_pair"
   ]
  },
  {
   "cell_type": "code",
   "execution_count": null,
   "id": "98005295-b1f2-4cea-9fef-9d82248057db",
   "metadata": {},
   "outputs": [],
   "source": [
    "df_val_pair.to_csv(\"validation.csv\")\n",
    "df_train_pair.to_csv(\"train.csv\")"
   ]
  },
  {
   "cell_type": "code",
   "execution_count": null,
   "id": "7a276f41-ce30-47ef-a9e9-321fae9abdd8",
   "metadata": {},
   "outputs": [],
   "source": [
    "import random\n",
    "import time\n",
    "from IPython.display import Image, display, clear_output\n",
    "from ipywidgets import widgets\n",
    "\n",
    "queue=img_to_check\n",
    "result=[]\n",
    "done=[]\n",
    "def choose():\n",
    "    \n",
    "    if queue:\n",
    "      (im,imgid)=queue.pop()\n",
    "      \n",
    "      if imgid in done:\n",
    "        choose()\n",
    "      else:\n",
    "      \n",
    "        button1 = widgets.Button(description = \"keep\")\n",
    "        button2 = widgets.Button(description = \"drop\")\n",
    "\n",
    "        container = widgets.HBox(children=[button1,button2])\n",
    "        \n",
    "\n",
    "\n",
    "        def on_button1_clicked(b):\n",
    "            done.append(imgid)\n",
    "            result.append(imgid)\n",
    "            container.close()\n",
    "            clear_output()\n",
    "            choose()\n",
    "\n",
    "        def on_button2_clicked(b):\n",
    "            done.append(imgid)\n",
    "            container.close()\n",
    "            clear_output()\n",
    "            choose()\n",
    "\n",
    "\n",
    "        button1.on_click(on_button1_clicked)\n",
    "        button2.on_click(on_button2_clicked)\n",
    "        display(Image(im))\n",
    "        display(container)\n",
    "\n",
    "choose() # initializes the first choice\n",
    "print(result)"
   ]
  },
  {
   "cell_type": "code",
   "execution_count": null,
   "id": "a8f99130-820c-4406-a1d4-3180f5485eb5",
   "metadata": {},
   "outputs": [],
   "source": [
    "!pip install fiftyone\n",
    "# !pip uninstall --yes opencv-python-headless==4.5.5.62\n",
    "# !pip install opencv-python-headless==4.5.2.52"
   ]
  },
  {
   "cell_type": "code",
   "execution_count": null,
   "id": "14c173c2-51a9-42d6-a9b0-eae3a9cf33bf",
   "metadata": {},
   "outputs": [],
   "source": [
    "import fiftyone.zoo as foz\n",
    "import fiftyone as fo\n",
    "\n",
    "\n",
    "dataset = foz.load_zoo_dataset(\n",
    "    \"coco-2017\",\n",
    "    split=\"validation\",\n",
    "    image_ids=set(df2['image_id'])\n",
    ")\n",
    "session = fo.launch_app(dataset)\n",
    "\n",
    "dataset = foz.load_zoo_dataset(\n",
    "    \"coco-2017\",\n",
    "    split=\"train\",\n",
    "    image_ids=set(df3['image_id'])\n",
    ")\n",
    "session = fo.launch_app(dataset)"
   ]
  },
  {
   "cell_type": "code",
   "execution_count": null,
   "id": "260c5484-1cf7-4ac3-8c8b-edc904adeb71",
   "metadata": {},
   "outputs": [],
   "source": []
  }
 ],
 "metadata": {
  "kernelspec": {
   "display_name": "Python 3",
   "language": "python",
   "name": "python3"
  },
  "language_info": {
   "codemirror_mode": {
    "name": "ipython",
    "version": 3
   },
   "file_extension": ".py",
   "mimetype": "text/x-python",
   "name": "python",
   "nbconvert_exporter": "python",
   "pygments_lexer": "ipython3",
   "version": "3.8.5"
  }
 },
 "nbformat": 4,
 "nbformat_minor": 5
}
