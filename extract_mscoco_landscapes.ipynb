{
 "cells": [
  {
   "cell_type": "code",
   "execution_count": 37,
   "id": "cac11a57-5042-4307-bec8-c9eef38553a3",
   "metadata": {},
   "outputs": [
    {
     "name": "stdout",
     "output_type": "stream",
     "text": [
      "--2022-01-18 12:27:36--  http://images.cocodataset.org/annotations/annotations_trainval2017.zip\n",
      "Resolving images.cocodataset.org (images.cocodataset.org)... 54.231.138.129\n",
      "Connecting to images.cocodataset.org (images.cocodataset.org)|54.231.138.129|:80... connected.\n",
      "HTTP request sent, awaiting response... 416 Requested Range Not Satisfiable\n",
      "\n",
      "    The file is already fully retrieved; nothing to do.\n",
      "\n"
     ]
    },
    {
     "data": {
      "text/plain": [
       "['Archive:  annotations_trainval2017.zip',\n",
       " '  inflating: annotations/instances_train2017.json  ',\n",
       " '  inflating: annotations/instances_val2017.json  ',\n",
       " '  inflating: annotations/captions_train2017.json  ',\n",
       " '  inflating: annotations/captions_val2017.json  ',\n",
       " '  inflating: annotations/person_keypoints_train2017.json  ',\n",
       " '  inflating: annotations/person_keypoints_val2017.json  ']"
      ]
     },
     "execution_count": 37,
     "metadata": {},
     "output_type": "execute_result"
    }
   ],
   "source": [
    "!wget -c http://images.cocodataset.org/annotations/annotations_trainval2017.zip\n",
    "!!unzip -o annotations_trainval2017.zip"
   ]
  },
  {
   "cell_type": "code",
   "execution_count": 38,
   "id": "63f44ed9-a46e-449c-9eed-667f116a57da",
   "metadata": {},
   "outputs": [
    {
     "data": {
      "text/html": [
       "<div>\n",
       "<style scoped>\n",
       "    .dataframe tbody tr th:only-of-type {\n",
       "        vertical-align: middle;\n",
       "    }\n",
       "\n",
       "    .dataframe tbody tr th {\n",
       "        vertical-align: top;\n",
       "    }\n",
       "\n",
       "    .dataframe thead th {\n",
       "        text-align: right;\n",
       "    }\n",
       "</style>\n",
       "<table border=\"1\" class=\"dataframe\">\n",
       "  <thead>\n",
       "    <tr style=\"text-align: right;\">\n",
       "      <th></th>\n",
       "      <th>image_id</th>\n",
       "      <th>id</th>\n",
       "      <th>caption</th>\n",
       "    </tr>\n",
       "  </thead>\n",
       "  <tbody>\n",
       "    <tr>\n",
       "      <th>1</th>\n",
       "      <td>179765</td>\n",
       "      <td>182</td>\n",
       "      <td>A Honda motorcycle parked in a grass driveway</td>\n",
       "    </tr>\n",
       "    <tr>\n",
       "      <th>10</th>\n",
       "      <td>517069</td>\n",
       "      <td>957</td>\n",
       "      <td>A woman sitting on a bench in the middle of th...</td>\n",
       "    </tr>\n",
       "    <tr>\n",
       "      <th>32</th>\n",
       "      <td>172330</td>\n",
       "      <td>5037</td>\n",
       "      <td>A cat stands between two parked cars on a gras...</td>\n",
       "    </tr>\n",
       "    <tr>\n",
       "      <th>62</th>\n",
       "      <td>338325</td>\n",
       "      <td>9769</td>\n",
       "      <td>A striped plane flying up into the sky as the ...</td>\n",
       "    </tr>\n",
       "    <tr>\n",
       "      <th>63</th>\n",
       "      <td>65485</td>\n",
       "      <td>9862</td>\n",
       "      <td>A dog driving an SUV in an open grass covered ...</td>\n",
       "    </tr>\n",
       "    <tr>\n",
       "      <th>...</th>\n",
       "      <td>...</td>\n",
       "      <td>...</td>\n",
       "      <td>...</td>\n",
       "    </tr>\n",
       "    <tr>\n",
       "      <th>24890</th>\n",
       "      <td>183965</td>\n",
       "      <td>703737</td>\n",
       "      <td>A tray holding a sandwich and cappuccino, next...</td>\n",
       "    </tr>\n",
       "    <tr>\n",
       "      <th>24894</th>\n",
       "      <td>521282</td>\n",
       "      <td>705144</td>\n",
       "      <td>clear vase filled with white and yellow flower...</td>\n",
       "    </tr>\n",
       "    <tr>\n",
       "      <th>24927</th>\n",
       "      <td>218249</td>\n",
       "      <td>742532</td>\n",
       "      <td>A food tray with french fries and a sandwich.</td>\n",
       "    </tr>\n",
       "    <tr>\n",
       "      <th>25002</th>\n",
       "      <td>537802</td>\n",
       "      <td>814283</td>\n",
       "      <td>Three teddy bears sit on a fake sled in fake s...</td>\n",
       "    </tr>\n",
       "    <tr>\n",
       "      <th>25005</th>\n",
       "      <td>537802</td>\n",
       "      <td>815928</td>\n",
       "      <td>Three teddy bears sit in a sled in fake snow.</td>\n",
       "    </tr>\n",
       "  </tbody>\n",
       "</table>\n",
       "<p>3726 rows × 3 columns</p>\n",
       "</div>"
      ],
      "text/plain": [
       "       image_id      id                                            caption\n",
       "1        179765     182      A Honda motorcycle parked in a grass driveway\n",
       "10       517069     957  A woman sitting on a bench in the middle of th...\n",
       "32       172330    5037  A cat stands between two parked cars on a gras...\n",
       "62       338325    9769  A striped plane flying up into the sky as the ...\n",
       "63        65485    9862  A dog driving an SUV in an open grass covered ...\n",
       "...         ...     ...                                                ...\n",
       "24890    183965  703737  A tray holding a sandwich and cappuccino, next...\n",
       "24894    521282  705144  clear vase filled with white and yellow flower...\n",
       "24927    218249  742532      A food tray with french fries and a sandwich.\n",
       "25002    537802  814283  Three teddy bears sit on a fake sled in fake s...\n",
       "25005    537802  815928      Three teddy bears sit in a sled in fake snow.\n",
       "\n",
       "[3726 rows x 3 columns]"
      ]
     },
     "execution_count": 38,
     "metadata": {},
     "output_type": "execute_result"
    }
   ],
   "source": [
    "import json\n",
    "import pandas as pd\n",
    "with open('./annotations/captions_val2017.json') as json_file:\n",
    "    data = json.load(json_file)\n",
    "\n",
    "df= pd.DataFrame(data['annotations'])\n",
    "df[df['caption'].str.contains('|'.join(['sand','grass','snow','wind','mountain','valley','water','forest','city','hill','valley','sky']))]"
   ]
  }
 ],
 "metadata": {
  "kernelspec": {
   "display_name": "Python 3 (ipykernel)",
   "language": "python",
   "name": "python3"
  },
  "language_info": {
   "codemirror_mode": {
    "name": "ipython",
    "version": 3
   },
   "file_extension": ".py",
   "mimetype": "text/x-python",
   "name": "python",
   "nbconvert_exporter": "python",
   "pygments_lexer": "ipython3",
   "version": "3.9.7"
  }
 },
 "nbformat": 4,
 "nbformat_minor": 5
}
