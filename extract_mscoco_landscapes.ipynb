{
 "cells": [
  {
   "cell_type": "code",
   "execution_count": 37,
   "id": "cac11a57-5042-4307-bec8-c9eef38553a3",
   "metadata": {},
   "outputs": [
    {
     "name": "stdout",
     "output_type": "stream",
     "text": [
      "--2022-01-18 12:27:36--  http://images.cocodataset.org/annotations/annotations_trainval2017.zip\n",
      "Resolving images.cocodataset.org (images.cocodataset.org)... 54.231.138.129\n",
      "Connecting to images.cocodataset.org (images.cocodataset.org)|54.231.138.129|:80... connected.\n",
      "HTTP request sent, awaiting response... 416 Requested Range Not Satisfiable\n",
      "\n",
      "    The file is already fully retrieved; nothing to do.\n",
      "\n"
     ]
    },
    {
     "data": {
      "text/plain": [
       "['Archive:  annotations_trainval2017.zip',\n",
       " '  inflating: annotations/instances_train2017.json  ',\n",
       " '  inflating: annotations/instances_val2017.json  ',\n",
       " '  inflating: annotations/captions_train2017.json  ',\n",
       " '  inflating: annotations/captions_val2017.json  ',\n",
       " '  inflating: annotations/person_keypoints_train2017.json  ',\n",
       " '  inflating: annotations/person_keypoints_val2017.json  ']"
      ]
     },
     "execution_count": 37,
     "metadata": {},
     "output_type": "execute_result"
    }
   ],
   "source": [
    "!wget -c http://images.cocodataset.org/annotations/annotations_trainval2017.zip\n",
    "!!unzip -o annotations_trainval2017.zip"
   ]
  },
  {
   "cell_type": "code",
   "execution_count": 45,
   "id": "63f44ed9-a46e-449c-9eed-667f116a57da",
   "metadata": {},
   "outputs": [
    {
     "data": {
      "text/html": [
       "<div>\n",
       "<style scoped>\n",
       "    .dataframe tbody tr th:only-of-type {\n",
       "        vertical-align: middle;\n",
       "    }\n",
       "\n",
       "    .dataframe tbody tr th {\n",
       "        vertical-align: top;\n",
       "    }\n",
       "\n",
       "    .dataframe thead th {\n",
       "        text-align: right;\n",
       "    }\n",
       "</style>\n",
       "<table border=\"1\" class=\"dataframe\">\n",
       "  <thead>\n",
       "    <tr style=\"text-align: right;\">\n",
       "      <th></th>\n",
       "      <th>image_id</th>\n",
       "      <th>id</th>\n",
       "      <th>caption</th>\n",
       "    </tr>\n",
       "  </thead>\n",
       "  <tbody>\n",
       "    <tr>\n",
       "      <th>4</th>\n",
       "      <td>106140</td>\n",
       "      <td>101</td>\n",
       "      <td>There is a GOL plane taking off in a partly cl...</td>\n",
       "    </tr>\n",
       "    <tr>\n",
       "      <th>13</th>\n",
       "      <td>301837</td>\n",
       "      <td>391</td>\n",
       "      <td>A long empty, minimal modern skylit home kitchen.</td>\n",
       "    </tr>\n",
       "    <tr>\n",
       "      <th>25</th>\n",
       "      <td>459912</td>\n",
       "      <td>748</td>\n",
       "      <td>Rows of motor bikes and helmets in a city</td>\n",
       "    </tr>\n",
       "    <tr>\n",
       "      <th>34</th>\n",
       "      <td>226419</td>\n",
       "      <td>939</td>\n",
       "      <td>A random plane in the sky flying alone</td>\n",
       "    </tr>\n",
       "    <tr>\n",
       "      <th>35</th>\n",
       "      <td>226419</td>\n",
       "      <td>945</td>\n",
       "      <td>An airplane flying high in the blue sky.</td>\n",
       "    </tr>\n",
       "    <tr>\n",
       "      <th>...</th>\n",
       "      <td>...</td>\n",
       "      <td>...</td>\n",
       "      <td>...</td>\n",
       "    </tr>\n",
       "    <tr>\n",
       "      <th>591574</th>\n",
       "      <td>87685</td>\n",
       "      <td>823276</td>\n",
       "      <td>A clock tower lit up at night time in a city.</td>\n",
       "    </tr>\n",
       "    <tr>\n",
       "      <th>591580</th>\n",
       "      <td>342919</td>\n",
       "      <td>823444</td>\n",
       "      <td>A blue teddy bear sitting behind a snow globe ...</td>\n",
       "    </tr>\n",
       "    <tr>\n",
       "      <th>591598</th>\n",
       "      <td>500705</td>\n",
       "      <td>824378</td>\n",
       "      <td>Various market booths are set up in a city.</td>\n",
       "    </tr>\n",
       "    <tr>\n",
       "      <th>591625</th>\n",
       "      <td>206416</td>\n",
       "      <td>825543</td>\n",
       "      <td>A brick clock tower is visible in front of a c...</td>\n",
       "    </tr>\n",
       "    <tr>\n",
       "      <th>591683</th>\n",
       "      <td>223929</td>\n",
       "      <td>827743</td>\n",
       "      <td>This is a clock in front of a blue sky backdrop.</td>\n",
       "    </tr>\n",
       "  </tbody>\n",
       "</table>\n",
       "<p>58726 rows × 3 columns</p>\n",
       "</div>"
      ],
      "text/plain": [
       "        image_id      id                                            caption\n",
       "4         106140     101  There is a GOL plane taking off in a partly cl...\n",
       "13        301837     391  A long empty, minimal modern skylit home kitchen.\n",
       "25        459912     748          Rows of motor bikes and helmets in a city\n",
       "34        226419     939             A random plane in the sky flying alone\n",
       "35        226419     945          An airplane flying high in the blue sky. \n",
       "...          ...     ...                                                ...\n",
       "591574     87685  823276      A clock tower lit up at night time in a city.\n",
       "591580    342919  823444  A blue teddy bear sitting behind a snow globe ...\n",
       "591598    500705  824378        Various market booths are set up in a city.\n",
       "591625    206416  825543  A brick clock tower is visible in front of a c...\n",
       "591683    223929  827743   This is a clock in front of a blue sky backdrop.\n",
       "\n",
       "[58726 rows x 3 columns]"
      ]
     },
     "execution_count": 45,
     "metadata": {},
     "output_type": "execute_result"
    }
   ],
   "source": [
    "import json\n",
    "import pandas as pd\n",
    "with open('./annotations/captions_val2017.json') as json_file:\n",
    "    data = json.load(json_file)\n",
    "\n",
    "df= pd.DataFrame(data['annotations'])\n",
    "df2=df[df['caption'].str.contains('|'.join(['sand[ y\\.]','grass[ y\\.]','snow[ y\\.]','wind[ y\\.]','mountain','valley','waterfall','forest','city','hill','valley','sky','cliff',' ridge','mist[ y\\.]','cloud[ y\\.]','lake','countryside']))]\n",
    "df2\n",
    "\n",
    "with open('./annotations/captions_train2017.json') as json_file:\n",
    "    data = json.load(json_file)\n",
    "\n",
    "df= pd.DataFrame(data['annotations'])\n",
    "df3=df[df['caption'].str.contains('|'.join(['sand[ y\\.]','grass[ y\\.]','snow[ y\\.]','wind[ y\\.]','mountain','valley','waterfall','forest','city','hill','valley','sky','cliff',' ridge','mist[ y\\.]','cloud[ y\\.]','lake','countryside']))]\n",
    "df3"
   ]
  },
  {
   "cell_type": "code",
   "execution_count": null,
   "id": "a8f99130-820c-4406-a1d4-3180f5485eb5",
   "metadata": {},
   "outputs": [],
   "source": []
  }
 ],
 "metadata": {
  "kernelspec": {
   "display_name": "Python 3 (ipykernel)",
   "language": "python",
   "name": "python3"
  },
  "language_info": {
   "codemirror_mode": {
    "name": "ipython",
    "version": 3
   },
   "file_extension": ".py",
   "mimetype": "text/x-python",
   "name": "python",
   "nbconvert_exporter": "python",
   "pygments_lexer": "ipython3",
   "version": "3.9.7"
  }
 },
 "nbformat": 4,
 "nbformat_minor": 5
}
