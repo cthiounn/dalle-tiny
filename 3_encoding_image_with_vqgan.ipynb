{
 "cells": [
  {
   "cell_type": "code",
   "execution_count": null,
   "id": "000e5bfe-3e2a-46b2-a7f9-12be31beeb91",
   "metadata": {},
   "outputs": [],
   "source": [
    "%pip install  git+https://github.com/CompVis/taming-transformers.git\n",
    "!git clone https://github.com/CompVis/taming-transformers.git && cd taming-transformers && python -m pip install -e .\n",
    "%pip install \"omegaconf>=2.0.0\" \"pytorch-lightning>=1.0.8\" einops transformers\n",
    "\n",
    "import os\n",
    "os._exit(00)"
   ]
  },
  {
   "cell_type": "code",
   "execution_count": null,
   "id": "fc61ac21-ed14-44cd-867b-6da8cfdd5a0e",
   "metadata": {},
   "outputs": [],
   "source": []
  },
  {
   "cell_type": "code",
   "execution_count": null,
   "id": "5fb9a836-6846-4f95-84e8-2d81c2ad8046",
   "metadata": {},
   "outputs": [],
   "source": []
  },
  {
   "cell_type": "code",
   "execution_count": null,
   "id": "d2999238-a065-4feb-9c25-f60a36612bb2",
   "metadata": {},
   "outputs": [],
   "source": [
    "#VQGAN ImageNet (f=16), 1024\n",
    "\n",
    "# !curl -L \"https://heibox.uni-heidelberg.de/d/8088892a516d4e3baf92/files/?p=%2Fckpts%2Flast.ckpt&dl=1\" >\"last.ckpt\"\n",
    "# !curl -L \"https://heibox.uni-heidelberg.de/d/8088892a516d4e3baf92/files/?p=%2Fconfigs%2Fmodel.yaml&dl=1\" >\"model.yaml\"\n",
    "\n",
    "\n",
    "#boris/vqgan_f16_16384\n",
    "!curl -L \"https://huggingface.co/boris/vqgan_f16_16384/raw/main/config.yaml\" > \"config_vqgan_minidalle.yaml\"\n",
    "!curl -L \"https://huggingface.co/boris/vqgan_f16_16384/resolve/main/model.ckpt\" > \"model_vqgan_minidalle.ckpt\""
   ]
  },
  {
   "cell_type": "code",
   "execution_count": null,
   "id": "5d55cdc7-faa4-4f63-8a74-a1a27255d361",
   "metadata": {},
   "outputs": [],
   "source": [
    "import sys\n",
    "sys.path.append(\".\")\n",
    "\n",
    "# also disable grad to save memory\n",
    "import torch\n",
    "torch.set_grad_enabled(False)\n",
    "\n",
    "DEVICE = torch.device(\"cuda:0\" if torch.cuda.is_available() else \"cpu\")\n",
    "\n",
    "from omegaconf import OmegaConf\n",
    "import taming\n",
    "from taming.models.vqgan import VQModel\n",
    "\n",
    "config_path = \"config_vqgan_minidalle.yaml\"\n",
    "# config_path = \"model.yaml\"\n",
    "\n",
    "config = OmegaConf.load(config_path)\n",
    "model=VQModel(**config.model.params).to(DEVICE)\n",
    "\n",
    "ckpt_path = \"model_vqgan_minidalle.ckpt\"\n",
    "# ckpt_path = \"last.ckpt\"\n",
    "\n",
    "sd = torch.load(ckpt_path, map_location=DEVICE)[\"state_dict\"]\n",
    "model.load_state_dict(sd, strict=False)"
   ]
  },
  {
   "cell_type": "code",
   "execution_count": null,
   "id": "725358bc-4be8-4a4f-b9f1-7c895c2edbf0",
   "metadata": {},
   "outputs": [],
   "source": [
    "import torch\n",
    "import torchvision.transforms.functional as TF\n",
    "from torch.utils.data import Dataset, DataLoader\n",
    "from torchvision.datasets.folder import default_loader\n",
    "from torchvision.transforms import InterpolationMode\n",
    "import numpy as np\n",
    "from PIL import Image\n",
    "import torchvision.transforms as T\n",
    "\n",
    "import requests\n",
    "\n",
    "r = requests.get(\"https://images.pexels.com/photos/10060920/pexels-photo-10060920.jpeg?cs=srgb&dl=pexels-nataliya-vaitkevich-10060920.jpg&fm=jpg\",stream=True)\n",
    "im = Image.open(r.raw)\n",
    "\n",
    "\n",
    "def preprocess_vqgan(x):\n",
    "  x = 2.*x - 1.\n",
    "  return x\n",
    "\n",
    "def custom_to_pil(x):\n",
    "  x = x.detach().cpu()\n",
    "  x = torch.clamp(x, -1., 1.)\n",
    "  x = (x + 1.)/2.\n",
    "  x = x.permute(1,2,0).numpy()\n",
    "  x = (255*x).astype(np.uint8)\n",
    "  x = Image.fromarray(x)\n",
    "  if not x.mode == \"RGB\":\n",
    "    x = x.convert(\"RGB\")\n",
    "  return x\n",
    "\n",
    "\n",
    "def resize_image(image):\n",
    "      s = min(image.size)\n",
    "      r = 256 / s\n",
    "      s = (round(r * image.size[1]), round(r * image.size[0]))\n",
    "      image = image.convert('RGB')\n",
    "      image = TF.resize(image, s, interpolation=InterpolationMode.LANCZOS)\n",
    "      image = TF.center_crop(image, output_size = 2 * [256])\n",
    "      image = torch.unsqueeze(T.ToTensor()(image), 0)\n",
    "\n",
    "      return preprocess_vqgan(image.to(DEVICE))\n",
    "\n",
    "quant, emb_loss, info=model.encode(resize_image(im))\n"
   ]
  },
  {
   "cell_type": "code",
   "execution_count": null,
   "id": "5d0b8f28",
   "metadata": {},
   "outputs": [],
   "source": [
    "x_rec=(model.decode(quant))\n",
    "display(custom_to_pil(x_rec[0]))"
   ]
  },
  {
   "cell_type": "code",
   "execution_count": null,
   "id": "54a8cd03",
   "metadata": {},
   "outputs": [],
   "source": [
    "from tqdm import tqdm\n",
    "import pandas as pd\n",
    "import os\n",
    "\n",
    "\n",
    "def create_encoding_file_parquet(base_dir_images):\n",
    "    list_file=[]\n",
    "    list_encoded=[]\n",
    "    for file_name in tqdm(os.listdir(base_dir_images), desc='dirs') :\n",
    "        _, _, [_, _, indices]=model.encode(resize_image(Image.open(base_dir_images+\"/\"+file_name)))\n",
    "        list_file.append(file_name)\n",
    "        list_encoded.append(indices.tolist())\n",
    "    df= pd.DataFrame.from_dict(\n",
    "                    {\"file_name\": list_file, \"encoding\": list_encoded}\n",
    "                )\n",
    "    df.to_parquet(base_dir_images+\".parquet\")\n"
   ]
  },
  {
   "cell_type": "code",
   "execution_count": null,
   "id": "1a6e00a0",
   "metadata": {},
   "outputs": [],
   "source": [
    "# !wget archive_train.zip\n",
    "# !wget archive_val.zip\n",
    "!unzip archive_train.zip\n",
    "!unzip archive_val.zip"
   ]
  },
  {
   "cell_type": "code",
   "execution_count": null,
   "id": "10f459f2-c7f5-4653-a6ab-9ba49175314f",
   "metadata": {},
   "outputs": [],
   "source": [
    "create_encoding_file_parquet(\"archive_val\")\n",
    "create_encoding_file_parquet(\"archive_train\")"
   ]
  }
 ],
 "metadata": {
  "kernelspec": {
   "display_name": "Python 3",
   "language": "python",
   "name": "python3"
  },
  "language_info": {
   "codemirror_mode": {
    "name": "ipython",
    "version": 3
   },
   "file_extension": ".py",
   "mimetype": "text/x-python",
   "name": "python",
   "nbconvert_exporter": "python",
   "pygments_lexer": "ipython3",
   "version": "3.7.9"
  }
 },
 "nbformat": 4,
 "nbformat_minor": 5
}
