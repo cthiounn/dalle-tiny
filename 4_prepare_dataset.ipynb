{
 "cells": [
  {
   "cell_type": "code",
   "execution_count": null,
   "id": "c60ea3fb-ee5d-4b43-81cb-3871f6590f46",
   "metadata": {},
   "outputs": [],
   "source": [
    "%run \"1_extract_mscoco_landscapes.ipynb\""
   ]
  },
  {
   "cell_type": "code",
   "execution_count": null,
   "id": "3979b0df-658c-4369-8abe-ebb8da5da861",
   "metadata": {},
   "outputs": [],
   "source": [
    "%store -r df_val_pair\n",
    "%store -r df_train_pair"
   ]
  },
  {
   "cell_type": "code",
   "execution_count": null,
   "id": "41714fa7-70ee-4d1c-95a9-493037f0adf3",
   "metadata": {},
   "outputs": [],
   "source": [
    "import pandas as pd"
   ]
  },
  {
   "cell_type": "code",
   "execution_count": null,
   "id": "7a933a67-a462-4924-b06f-37cc8f234724",
   "metadata": {},
   "outputs": [],
   "source": [
    "df_val=pd.read_parquet(\"https://github.com/cthiounn/dalle-tiny/raw/main/archive_val.parquet\")\n",
    "df_val=df_val.reset_index().set_index(\"file_name\")\n",
    "dfdf_val=df_val.merge(df_val_pair, how=\"inner\",left_index=True, right_index=True)\n",
    "dfdf_val=dfdf_val.reset_index()\n",
    "dfdf_val=dfdf_val.drop(columns=['file_name','index'])\n",
    "dfdf_val=dfdf_val.set_index(\"caption\")\n",
    "dfdf_val.to_parquet(\"val_caption_encoding.parquet\")"
   ]
  },
  {
   "cell_type": "code",
   "execution_count": null,
   "id": "d03d698c-cd90-4705-852d-f8a9e05a6c4c",
   "metadata": {},
   "outputs": [],
   "source": [
    "df_train=pd.read_parquet(\"https://github.com/cthiounn/dalle-tiny/raw/main/archive_train.parquet\")\n",
    "df_train=df_train.reset_index().set_index(\"file_name\")\n",
    "dfdf_train=df_train.merge(df_train_pair, how=\"inner\",left_index=True, right_index=True)\n",
    "dfdf_train=dfdf_train.reset_index()\n",
    "dfdf_train=dfdf_train.drop(columns=['file_name','index'])\n",
    "dfdf_train=dfdf_train.set_index(\"caption\")\n",
    "dfdf_train.to_parquet(\"train_caption_encoding.parquet\")"
   ]
  }
 ],
 "metadata": {
  "kernelspec": {
   "display_name": "Python 3",
   "language": "python",
   "name": "python3"
  },
  "language_info": {
   "codemirror_mode": {
    "name": "ipython",
    "version": 3
   },
   "file_extension": ".py",
   "mimetype": "text/x-python",
   "name": "python",
   "nbconvert_exporter": "python",
   "pygments_lexer": "ipython3",
   "version": "3.7.9"
  }
 },
 "nbformat": 4,
 "nbformat_minor": 5
}
