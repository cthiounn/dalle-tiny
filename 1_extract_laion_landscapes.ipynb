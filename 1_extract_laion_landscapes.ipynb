{
 "cells": [
  {
   "cell_type": "code",
   "execution_count": null,
   "id": "f300931c-7495-48fd-ad6a-74a1d9b27406",
   "metadata": {},
   "outputs": [],
   "source": [
    "%pip install pyspark"
   ]
  },
  {
   "cell_type": "code",
   "execution_count": null,
   "id": "9f48e6fb-6b2b-4faf-83db-6cdff57adc65",
   "metadata": {},
   "outputs": [],
   "source": [
    "from pyspark.sql import SparkSession\n",
    "from pyspark.sql.functions import lit, rand\n",
    "# You can open http://localhost:4040 to follow progress on the spark operations\n",
    "spark = SparkSession.builder.config(\"spark.driver.memory\", \"16G\") .master(\"local[16]\").appName('spark-stats').getOrCreate() "
   ]
  },
  {
   "cell_type": "code",
   "execution_count": null,
   "id": "3a42b1d0-0bf6-4904-a5b9-7156e5febd55",
   "metadata": {},
   "outputs": [],
   "source": [
    "parquetFile = spark.read.parquet(\"../../laion2B-en/\")"
   ]
  },
  {
   "cell_type": "code",
   "execution_count": null,
   "id": "556e7d24-8b8e-4e1e-bb16-12c3db80183b",
   "metadata": {},
   "outputs": [],
   "source": [
    "KEYWORDS = ['garden','park[s ]','landscape','sand[sy ]','grass[sy ]','snow[sy ]','wind[sy ]','mountain','valley','waterfall','forest','hill','valley','^sky', ' sky ','cliff',' ridge','mist[sy ]','cloud[sy ]',' lake','countryside','sea ','ocean','beach']"
   ]
  },
  {
   "cell_type": "code",
   "execution_count": null,
   "id": "4bb7ce41-4812-4938-8794-f326d8128d83",
   "metadata": {},
   "outputs": [],
   "source": [
    "parquetFile.filter(parquetFile.TEXT.rlike('|'.join(KEYWORDS))&(parquetFile.HEIGHT>250)& (parquetFile.NSFW=='UNLIKELY')&(parquetFile.similarity >0.5)).first()"
   ]
  },
  {
   "cell_type": "code",
   "execution_count": null,
   "id": "c049fd07-e2c4-48e5-8dd2-414673796133",
   "metadata": {},
   "outputs": [],
   "source": []
  },
  {
   "cell_type": "code",
   "execution_count": null,
   "id": "06cde51d-fab5-448a-b3d2-06efd20af40c",
   "metadata": {},
   "outputs": [],
   "source": []
  }
 ],
 "metadata": {
  "kernelspec": {
   "display_name": "Python 3",
   "language": "python",
   "name": "python3"
  },
  "language_info": {
   "codemirror_mode": {
    "name": "ipython",
    "version": 3
   },
   "file_extension": ".py",
   "mimetype": "text/x-python",
   "name": "python",
   "nbconvert_exporter": "python",
   "pygments_lexer": "ipython3",
   "version": "3.7.9"
  }
 },
 "nbformat": 4,
 "nbformat_minor": 5
}
