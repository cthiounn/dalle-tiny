{
 "cells": [
  {
   "cell_type": "code",
   "execution_count": null,
   "id": "000e5bfe-3e2a-46b2-a7f9-12be31beeb91",
   "metadata": {},
   "outputs": [],
   "source": [
    "%pip install -q dall_e"
   ]
  },
  {
   "cell_type": "code",
   "execution_count": null,
   "id": "50e7bcba-ab3f-48ff-9639-3b877f2bd20e",
   "metadata": {},
   "outputs": [],
   "source": [
    "import PIL\n",
    "\n",
    "import torch\n",
    "import torchvision.transforms as T\n",
    "import torchvision.transforms.functional as TF\n",
    "import torch.nn.functional as F\n",
    "from dall_e          import map_pixels, unmap_pixels, load_model\n",
    "from IPython.display import display, display_markdown\n",
    "\n",
    "target_image_size = 256\n",
    "\n",
    "\n",
    "def preprocess(img):\n",
    "    s = min(img.size)    \n",
    "    r = target_image_size / s\n",
    "    s = (round(r * img.size[1]), round(r * img.size[0]))\n",
    "    img = TF.resize(img, s, interpolation=PIL.Image.LANCZOS)\n",
    "    img = TF.center_crop(img, output_size=2 * [target_image_size])\n",
    "    img = torch.unsqueeze(T.ToTensor()(img), 0)\n",
    "    return map_pixels(img)"
   ]
  },
  {
   "cell_type": "code",
   "execution_count": null,
   "id": "fc61ac21-ed14-44cd-867b-6da8cfdd5a0e",
   "metadata": {},
   "outputs": [],
   "source": [
    "# This can be changed to a GPU, e.g. 'cuda:0'.\n",
    "dev = torch.device(\"cuda:0\" if torch.cuda.is_available() else \"cpu\")\n",
    "\n",
    "# For faster load times, download these files locally and use the local paths instead.\n",
    "enc = load_model(\"https://cdn.openai.com/dall-e/encoder.pkl\", dev)"
   ]
  },
  {
   "cell_type": "code",
   "execution_count": null,
   "id": "54a8cd03",
   "metadata": {},
   "outputs": [],
   "source": [
    "from tqdm import tqdm\n",
    "import pandas as pd\n",
    "import os\n",
    "\n",
    "\n",
    "def create_encoding_file_parquet(base_dir_images):\n",
    "    list_file=[]\n",
    "    list_encoded=[]\n",
    "    for file_name in tqdm(os.listdir(base_dir_images), desc='dirs') :\n",
    "        x = preprocess(Image.open(base_dir_images+\"/\"+file_name))\n",
    "        z_logits = enc(x)\n",
    "        z = torch.argmax(z_logits, axis=1)\n",
    "        z = F.one_hot(z, num_classes=enc.vocab_size).permute(0, 3, 1, 2).float()\n",
    "        list_file.append(file_name)\n",
    "        list_encoded.append(indices.tolist())\n",
    "    df= pd.DataFrame.from_dict(\n",
    "                    {\"file_name\": list_file, \"encoding\": list_encoded}\n",
    "                )\n",
    "    df.to_parquet(base_dir_images+\".parquet\")\n"
   ]
  },
  {
   "cell_type": "code",
   "execution_count": null,
   "id": "1a6e00a0",
   "metadata": {},
   "outputs": [],
   "source": [
    "# !wget archive_train.zip\n",
    "# !wget archive_val.zip\n",
    "#!unzip archive_train.zip\n",
    "#!unzip archive_val.zip"
   ]
  },
  {
   "cell_type": "code",
   "execution_count": null,
   "id": "10f459f2-c7f5-4653-a6ab-9ba49175314f",
   "metadata": {},
   "outputs": [],
   "source": [
    "# create_encoding_file_parquet(\"archive_val\")\n",
    "# create_encoding_file_parquet(\"archive_train\")"
   ]
  }
 ],
 "metadata": {
  "kernelspec": {
   "display_name": "Python 3",
   "language": "python",
   "name": "python3"
  },
  "language_info": {
   "codemirror_mode": {
    "name": "ipython",
    "version": 3
   },
   "file_extension": ".py",
   "mimetype": "text/x-python",
   "name": "python",
   "nbconvert_exporter": "python",
   "pygments_lexer": "ipython3",
   "version": "3.7.9"
  }
 },
 "nbformat": 4,
 "nbformat_minor": 5
}
