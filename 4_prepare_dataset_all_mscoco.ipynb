{
 "cells": [
  {
   "cell_type": "code",
   "execution_count": null,
   "id": "c60ea3fb-ee5d-4b43-81cb-3871f6590f46",
   "metadata": {},
   "outputs": [],
   "source": [
    "!wget -c http://images.cocodataset.org/annotations/annotations_trainval2017.zip\n",
    "!unzip -o annotations_trainval2017.zip"
   ]
  },
  {
   "cell_type": "code",
   "execution_count": null,
   "id": "7c427663-75c8-4b2e-8953-ff61ada81992",
   "metadata": {},
   "outputs": [],
   "source": [
    "%pip install transformers"
   ]
  },
  {
   "cell_type": "code",
   "execution_count": null,
   "id": "3e252dd8-ae01-466d-a654-63f1752a61fc",
   "metadata": {},
   "outputs": [],
   "source": [
    "import re\n",
    "import json\n",
    "import pandas as pd\n",
    "with open('./annotations/captions_val2017.json') as json_file:\n",
    "    data = json.load(json_file)\n",
    "\n",
    "df= pd.DataFrame(data['annotations'])\n",
    "\n",
    "with open('./annotations/captions_train2017.json') as json_file:\n",
    "    data = json.load(json_file)\n",
    "\n",
    "df2= pd.DataFrame(data['annotations'])"
   ]
  },
  {
   "cell_type": "code",
   "execution_count": null,
   "id": "be272071-fe3b-4631-be5b-26b7f47c09db",
   "metadata": {},
   "outputs": [],
   "source": [
    "df_val_pair=df.copy()\n",
    "df_val_pair[\"file_name\"]=df_val_pair.apply(lambda x: str(x.image_id).zfill(12)+'.jpg', axis=1)\n",
    "df_val_pair=df_val_pair.reset_index().set_index(\"file_name\")\n",
    "df_val_pair=df_val_pair.drop(columns=['index','id','image_id'])\n",
    "df_val_pair"
   ]
  },
  {
   "cell_type": "code",
   "execution_count": null,
   "id": "ea7c7d68-9d00-404f-a20e-2772286f2c4f",
   "metadata": {},
   "outputs": [],
   "source": [
    "df_train_pair=df2.copy()\n",
    "df_train_pair[\"file_name\"]=df_train_pair.apply(lambda x: str(x.image_id).zfill(12)+'.jpg', axis=1)\n",
    "df_train_pair=df_train_pair.reset_index().set_index(\"file_name\")\n",
    "df_train_pair=df_train_pair.drop(columns=['index','id','image_id'])\n",
    "df_train_pair"
   ]
  },
  {
   "cell_type": "code",
   "execution_count": null,
   "id": "3979b0df-658c-4369-8abe-ebb8da5da861",
   "metadata": {},
   "outputs": [],
   "source": [
    "from transformers import BartTokenizer\n",
    "\n",
    "tokenizer = BartTokenizer.from_pretrained('facebook/bart-large-cnn')\n",
    "max_length=255\n",
    "padding=\"max_length\"\n",
    "df_train_pair[\"token_caption\"]=df_train_pair.apply(lambda x:tokenizer(x.caption, return_tensors=\"pt\",max_length=max_length,padding=padding)['input_ids'].squeeze().numpy(), axis=1)"
   ]
  },
  {
   "cell_type": "code",
   "execution_count": null,
   "id": "41714fa7-70ee-4d1c-95a9-493037f0adf3",
   "metadata": {},
   "outputs": [],
   "source": [
    "df_val_pair[\"token_caption\"]=df_val_pair.apply(lambda x:tokenizer(x.caption, return_tensors=\"pt\",max_length=max_length,padding=padding)['input_ids'].squeeze().numpy(), axis=1)"
   ]
  },
  {
   "cell_type": "code",
   "execution_count": null,
   "id": "89499330-6fc4-4308-acc3-ca8ff3a6f2cd",
   "metadata": {},
   "outputs": [],
   "source": [
    "from tqdm import tqdm\n",
    "import s3fs\n",
    "import os\n",
    "\n",
    "S3_ENDPOINT_URL = \"https://\" + os.environ[\"AWS_S3_ENDPOINT\"]\n",
    "fs = s3fs.S3FileSystem(client_kwargs={'endpoint_url': S3_ENDPOINT_URL})\n",
    "S3_BUCKET=\"cthiounn2\"\n",
    "            \n",
    "files=['val2017.parquet','train2017.parquet']\n",
    "for file in tqdm(files):\n",
    "    with fs.open(f'{S3_BUCKET}/{file}', mode=\"rb\") as file_in, open(file,\"wb\") as file_out:\n",
    "            file_out.write(file_in.read())\n"
   ]
  },
  {
   "cell_type": "code",
   "execution_count": null,
   "id": "b619e10e-510d-4499-91f9-dc366addbfa2",
   "metadata": {},
   "outputs": [],
   "source": [
    "df_train2017=pd.read_parquet(\"train2017.parquet\")\n",
    "df_train2017=df_train2017.reset_index().set_index(\"file_name\")\n",
    "df_train2017_merge=df_train2017.merge(df_train_pair,how=\"outer\",left_index=True,right_index=True)\n",
    "df_train2017_merge_extract=df_train2017_merge[[\"token_caption\",\"encoding\"]]\n",
    "df_train2017_merge_extract.to_parquet(\"train2017_caption_image.parquet\")"
   ]
  },
  {
   "cell_type": "code",
   "execution_count": null,
   "id": "d052611e-e9bc-4a60-904c-8661db00dbdf",
   "metadata": {},
   "outputs": [],
   "source": [
    "df_val2017=pd.read_parquet(\"val2017.parquet\")\n",
    "df_val2017=df_val2017.reset_index().set_index(\"file_name\")\n",
    "df_val2017_merge=df_val2017.merge(df_val_pair,how=\"outer\",left_index=True,right_index=True)\n",
    "df_val2017_merge_extract=df_val2017_merge[[\"token_caption\",\"encoding\"]]\n",
    "df_val2017_merge_extract.to_parquet(\"val2017_caption_image.parquet\")"
   ]
  },
  {
   "cell_type": "code",
   "execution_count": null,
   "id": "d279c4f3-99a6-44a4-b8e5-a3ec1afca83a",
   "metadata": {},
   "outputs": [],
   "source": [
    "def write_file_to_s3(bucket_name:str,dir_file:str,file_name:str,fs:s3fs.core.S3FileSystem):\n",
    "    if bucket_name and file_name and fs:\n",
    "        FILE_PATH_OUT_S3 = bucket_name + \"/\" + file_name\n",
    "        with fs.open(FILE_PATH_OUT_S3, 'wb') as file_out , open(dir_file+file_name, 'rb') as file_in:\n",
    "            file_out.write(file_in.read())\n",
    "            \n",
    "write_file_to_s3(S3_BUCKET,'./','train2017_caption_image.parquet',fs)\n",
    "write_file_to_s3(S3_BUCKET,'./','val2017_caption_image.parquet',fs)"
   ]
  }
 ],
 "metadata": {
  "kernelspec": {
   "display_name": "Python 3",
   "language": "python",
   "name": "python3"
  },
  "language_info": {
   "codemirror_mode": {
    "name": "ipython",
    "version": 3
   },
   "file_extension": ".py",
   "mimetype": "text/x-python",
   "name": "python",
   "nbconvert_exporter": "python",
   "pygments_lexer": "ipython3",
   "version": "3.7.9"
  }
 },
 "nbformat": 4,
 "nbformat_minor": 5
}
