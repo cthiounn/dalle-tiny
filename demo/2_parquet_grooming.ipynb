{
 "cells": [
  {
   "cell_type": "code",
   "execution_count": null,
   "id": "03e0aa1d-a95f-4634-94ae-0d17f2789f98",
   "metadata": {},
   "outputs": [],
   "source": [
    "from tqdm import tqdm\n",
    "import s3fs\n",
    "import os\n",
    "\n",
    "# Create filesystem object\n",
    "S3_ENDPOINT_URL = \"https://\" + os.environ[\"AWS_S3_ENDPOINT\"]\n",
    "fs = s3fs.S3FileSystem(client_kwargs={'endpoint_url': S3_ENDPOINT_URL})\n",
    "BUCKET = \"cthiounn2\"\n",
    "fs.ls(BUCKET)\n",
    "\n",
    "files=['pokemon.parquet','pokemon_name.csv']\n",
    "for file in tqdm(files):\n",
    "    with fs.open(f'{BUCKET}/{file}', mode=\"rb\") as file_in, open(file,\"wb\") as file_out:\n",
    "            file_out.write(file_in.read())"
   ]
  },
  {
   "cell_type": "code",
   "execution_count": null,
   "id": "54d1a886-d474-458f-9edd-432637fcb869",
   "metadata": {},
   "outputs": [],
   "source": [
    "import pandas as pd\n",
    "df= pd.read_parquet(\"pokemon.parquet\")"
   ]
  },
  {
   "cell_type": "code",
   "execution_count": null,
   "id": "984ad467-e086-49c0-a979-649e88ff236d",
   "metadata": {},
   "outputs": [],
   "source": [
    "df_pokemon_non_mega=df[~df.file_name.str.contains(\"-\")]"
   ]
  },
  {
   "cell_type": "code",
   "execution_count": null,
   "id": "cc2c6161-6769-492d-b34e-dff7d0d5e82a",
   "metadata": {},
   "outputs": [],
   "source": [
    "df_pokemon_non_mega[[\"numero\",\"filetype\"]]=df_pokemon_non_mega[\"file_name\"].str.split(pat=\".\",expand=True)"
   ]
  },
  {
   "cell_type": "code",
   "execution_count": null,
   "id": "34b470a6-484b-4307-8a85-852cf6506b54",
   "metadata": {},
   "outputs": [],
   "source": [
    "df_pokemon_non_mega['numeroint']=df_pokemon_non_mega['numero'].apply(int)"
   ]
  },
  {
   "cell_type": "code",
   "execution_count": null,
   "id": "dbbbbd03-57dc-4775-9b1b-5aa8ec5c0da6",
   "metadata": {},
   "outputs": [],
   "source": [
    "df_pokemon_non_mega_numenc=df_pokemon_non_mega[['numeroint','encoding']]\n",
    "df_pokemon_non_mega_numenc=df_pokemon_non_mega_numenc.reset_index(drop=True)\n",
    "df_pokemon_non_mega_numenc=df_pokemon_non_mega_numenc.set_index('numeroint')"
   ]
  },
  {
   "cell_type": "code",
   "execution_count": null,
   "id": "65bb7372-cd03-42e2-96f8-9bdd7c47a2d1",
   "metadata": {},
   "outputs": [],
   "source": [
    "# English name https://github.com/veekun/pokedex/blob/master/pokedex/data/csv/pokemon.csv\n",
    "# French name\n",
    "df_name= pd.read_csv(\"pokemon_name.csv\")\n"
   ]
  },
  {
   "cell_type": "code",
   "execution_count": null,
   "id": "2264cda7-c95d-49b3-9d59-122c33fdb324",
   "metadata": {},
   "outputs": [],
   "source": [
    "df_name_keep=df_name[['Numéro', 'Nom français']]\n",
    "df_name_keep=df_name_keep.reset_index(drop=True)\n",
    "df_name_keep=df_name_keep.set_index('Numéro')"
   ]
  },
  {
   "cell_type": "code",
   "execution_count": null,
   "id": "bc9de496-1179-4044-8aa7-dae75f4fa547",
   "metadata": {},
   "outputs": [],
   "source": [
    "df_fusion=df_pokemon_non_mega_numenc.merge(df_name_keep,how=\"left\",right_index=True,left_index=True)"
   ]
  },
  {
   "cell_type": "code",
   "execution_count": null,
   "id": "c5184311-65cd-4db3-a4ad-6020fe190cf3",
   "metadata": {},
   "outputs": [],
   "source": [
    "df_fusion_ordre=df_fusion[['Nom français','encoding']]"
   ]
  },
  {
   "cell_type": "code",
   "execution_count": null,
   "id": "0c327d1b-8bbe-4748-a8c9-24cebc331e3e",
   "metadata": {},
   "outputs": [],
   "source": [
    "df_fusion_ordre"
   ]
  }
 ],
 "metadata": {
  "kernelspec": {
   "display_name": "Python 3",
   "language": "python",
   "name": "python3"
  },
  "language_info": {
   "codemirror_mode": {
    "name": "ipython",
    "version": 3
   },
   "file_extension": ".py",
   "mimetype": "text/x-python",
   "name": "python",
   "nbconvert_exporter": "python",
   "pygments_lexer": "ipython3",
   "version": "3.7.9"
  }
 },
 "nbformat": 4,
 "nbformat_minor": 5
}
