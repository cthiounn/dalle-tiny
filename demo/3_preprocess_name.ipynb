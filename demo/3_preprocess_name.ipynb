{
 "cells": [
  {
   "cell_type": "code",
   "execution_count": null,
   "id": "5baffaaf-052b-4818-9773-e77914c637b4",
   "metadata": {},
   "outputs": [],
   "source": [
    "%pip install transformers"
   ]
  },
  {
   "cell_type": "code",
   "execution_count": null,
   "id": "209439a4-b11e-4fa4-9937-613ce9c4ebd5",
   "metadata": {},
   "outputs": [],
   "source": [
    "from tqdm import tqdm\n",
    "import s3fs\n",
    "import os\n",
    "\n",
    "# Create filesystem object\n",
    "S3_ENDPOINT_URL = \"https://\" + os.environ[\"AWS_S3_ENDPOINT\"]\n",
    "fs = s3fs.S3FileSystem(client_kwargs={'endpoint_url': S3_ENDPOINT_URL})\n",
    "BUCKET = \"cthiounn2\"\n",
    "fs.ls(BUCKET)\n",
    "\n",
    "files=['fusion_pokemon.parquet']\n",
    "for file in tqdm(files):\n",
    "    with fs.open(f'{BUCKET}/{file}', mode=\"rb\") as file_in, open(file,\"wb\") as file_out:\n",
    "            file_out.write(file_in.read())"
   ]
  },
  {
   "cell_type": "code",
   "execution_count": null,
   "id": "b85e0df1-9a8d-42d3-889d-e22fd17be254",
   "metadata": {},
   "outputs": [],
   "source": [
    "import pandas as pd\n",
    "df=pd.read_parquet(\"fusion_pokemon.parquet\")\n"
   ]
  },
  {
   "cell_type": "code",
   "execution_count": null,
   "id": "352c6a13-844d-40a5-9d77-e8b0d3d667c1",
   "metadata": {},
   "outputs": [],
   "source": [
    "df=df.rename(columns={\"Nom français\": \"caption\"})"
   ]
  },
  {
   "cell_type": "code",
   "execution_count": null,
   "id": "6340490b-6f24-4ce8-ad52-c07673804b67",
   "metadata": {},
   "outputs": [],
   "source": [
    "from transformers import BartTokenizer\n",
    "\n",
    "tokenizer = BartTokenizer.from_pretrained('facebook/bart-large-cnn')\n",
    "max_length=255\n",
    "padding=\"max_length\"\n",
    "df[\"token_caption\"]=df.apply(lambda x:tokenizer(x.caption, return_tensors=\"pt\",max_length=max_length,padding=padding)['input_ids'].squeeze().numpy(), axis=1)"
   ]
  },
  {
   "cell_type": "code",
   "execution_count": null,
   "id": "87617e07-b66d-4605-9a08-c0997feb28d8",
   "metadata": {},
   "outputs": [],
   "source": [
    "df"
   ]
  },
  {
   "cell_type": "code",
   "execution_count": null,
   "id": "94d05e78-a819-4c58-99fb-c623d0a4243e",
   "metadata": {},
   "outputs": [],
   "source": [
    "df[df.caption.str.contains('Pi')]"
   ]
  },
  {
   "cell_type": "code",
   "execution_count": null,
   "id": "648e541a-66d9-4299-b41b-57ffef5a430b",
   "metadata": {},
   "outputs": [],
   "source": [
    "df[df.caption.str.contains('zarre')]"
   ]
  },
  {
   "cell_type": "code",
   "execution_count": null,
   "id": "7ebf051a-f456-4a36-82cd-e7ce4f7c1398",
   "metadata": {},
   "outputs": [],
   "source": [
    "df[df.caption.str.contains('Flor')]"
   ]
  },
  {
   "cell_type": "code",
   "execution_count": null,
   "id": "1841e583-8683-4005-a8b0-fe6560d151ef",
   "metadata": {},
   "outputs": [],
   "source": [
    "df2=df[['token_caption','encoding']]"
   ]
  },
  {
   "cell_type": "code",
   "execution_count": null,
   "id": "dc3f1e92-4c9f-44b6-8f2f-681d62baf5ff",
   "metadata": {},
   "outputs": [],
   "source": [
    "df2"
   ]
  },
  {
   "cell_type": "code",
   "execution_count": null,
   "id": "fd32a141-e423-4d7f-a444-b672580cf092",
   "metadata": {},
   "outputs": [],
   "source": [
    "df_train,df_test=df2[:150],df2[150:]\n",
    "df_train"
   ]
  },
  {
   "cell_type": "code",
   "execution_count": null,
   "id": "50351829-8e3d-4a9e-b3de-5c456c9d4228",
   "metadata": {},
   "outputs": [],
   "source": [
    "df_test"
   ]
  },
  {
   "cell_type": "code",
   "execution_count": null,
   "id": "09b08055-ecce-4529-8d32-c10aff8aabbd",
   "metadata": {},
   "outputs": [],
   "source": [
    "df_train.to_parquet(\"train_pokemon.parquet\")\n",
    "df_test.to_parquet(\"test_pokemon.parquet\")"
   ]
  }
 ],
 "metadata": {
  "kernelspec": {
   "display_name": "Python 3",
   "language": "python",
   "name": "python3"
  },
  "language_info": {
   "codemirror_mode": {
    "name": "ipython",
    "version": 3
   },
   "file_extension": ".py",
   "mimetype": "text/x-python",
   "name": "python",
   "nbconvert_exporter": "python",
   "pygments_lexer": "ipython3",
   "version": "3.7.9"
  }
 },
 "nbformat": 4,
 "nbformat_minor": 5
}
