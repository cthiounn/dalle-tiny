{
 "cells": [
  {
   "cell_type": "code",
   "execution_count": null,
   "id": "000e5bfe-3e2a-46b2-a7f9-12be31beeb91",
   "metadata": {},
   "outputs": [],
   "source": [
    "%pip install  git+https://github.com/CompVis/taming-transformers.git\n",
    "!git clone https://github.com/CompVis/taming-transformers.git && cd taming-transformers && python -m pip install -e .\n",
    "%pip install \"omegaconf>=2.0.0\" \"pytorch-lightning>=1.0.8\" einops transformers\n",
    "\n",
    "import os\n",
    "os._exit(00)"
   ]
  },
  {
   "cell_type": "code",
   "execution_count": null,
   "id": "fc61ac21-ed14-44cd-867b-6da8cfdd5a0e",
   "metadata": {},
   "outputs": [],
   "source": []
  },
  {
   "cell_type": "code",
   "execution_count": null,
   "id": "5fb9a836-6846-4f95-84e8-2d81c2ad8046",
   "metadata": {},
   "outputs": [],
   "source": []
  },
  {
   "cell_type": "code",
   "execution_count": null,
   "id": "d2999238-a065-4feb-9c25-f60a36612bb2",
   "metadata": {},
   "outputs": [],
   "source": [
    "#VQGAN ImageNet (f=16), 1024\n",
    "\n",
    "!curl -L \"https://heibox.uni-heidelberg.de/d/8088892a516d4e3baf92/files/?p=%2Fckpts%2Flast.ckpt&dl=1\" >\"last.ckpt\"\n",
    "!curl -L \"https://heibox.uni-heidelberg.de/d/8088892a516d4e3baf92/files/?p=%2Fconfigs%2Fmodel.yaml&dl=1\" >\"model.yaml\"\n",
    "\n",
    "\n",
    "#boris/vqgan_f16_16384\n",
    "!curl -L \"https://huggingface.co/boris/vqgan_f16_16384/raw/main/config.yaml\" > \"config_vqgan_minidalle.yaml\"\n",
    "!curl -L \"https://huggingface.co/boris/vqgan_f16_16384/resolve/main/model.ckpt\" > \"model_vqgan_minidalle.ckpt\""
   ]
  },
  {
   "cell_type": "code",
   "execution_count": null,
   "id": "5d55cdc7-faa4-4f63-8a74-a1a27255d361",
   "metadata": {},
   "outputs": [],
   "source": [
    "import sys\n",
    "sys.path.append(\".\")\n",
    "\n",
    "# also disable grad to save memory\n",
    "import torch\n",
    "torch.set_grad_enabled(False)\n",
    "\n",
    "DEVICE = torch.device(\"cuda:0\" if torch.cuda.is_available() else \"cpu\")\n",
    "\n",
    "from omegaconf import OmegaConf\n",
    "import taming\n",
    "from taming.models.vqgan import VQModel\n",
    "\n",
    "# config_path = \"config_vqgan_minidalle.yaml\"\n",
    "config_path = \"model.yaml\"\n",
    "\n",
    "config = OmegaConf.load(config_path)\n",
    "model=VQModel(**config.model.params)\n",
    "\n",
    "#ckpt_path = \"model_vqgan_minidalle.ckpt\"\n",
    "ckpt_path = \"last.ckpt\"\n",
    "\n",
    "sd = torch.load(ckpt_path, map_location=\"cpu\")[\"state_dict\"]\n",
    "model.load_state_dict(sd, strict=False)"
   ]
  },
  {
   "cell_type": "code",
   "execution_count": null,
   "id": "725358bc-4be8-4a4f-b9f1-7c895c2edbf0",
   "metadata": {},
   "outputs": [],
   "source": [
    "import torch\n",
    "import torchvision.transforms.functional as TF\n",
    "from torch.utils.data import Dataset, DataLoader\n",
    "from torchvision.datasets.folder import default_loader\n",
    "from torchvision.transforms import InterpolationMode\n",
    "import numpy as np\n",
    "from PIL import Image\n",
    "def resize_image(image):\n",
    "      s = min(image.size)\n",
    "      r = 255 / s\n",
    "      s = (round(r * image.size[1]), round(r * image.size[0]))\n",
    "      image = TF.resize(image, s, interpolation=InterpolationMode.LANCZOS)\n",
    "      image = TF.center_crop(image, output_size = 2 * [255])\n",
    "      image = np.expand_dims(np.array(image), axis=0)\n",
    "      return image\n",
    "\n",
    "img = torch.Tensor(resize_image(Image.open(\"archive_val/000000287291.jpg\"))).permute(0,3, 1, 2)\n",
    "display(Image.open(\"archive_val/000000287291.jpg\"))\n",
    "quant, emb_loss, info=model.encode(img)\n"
   ]
  },
  {
   "cell_type": "code",
   "execution_count": null,
   "id": "604943e3-7bf0-407e-bb09-fbc2ed365ec6",
   "metadata": {},
   "outputs": [],
   "source": [
    "logit_laplace_eps: float = 0.1\n",
    "def unmap_pixels(x: torch.Tensor) -> torch.Tensor:\n",
    "\tif len(x.shape) != 4:\n",
    "\t\traise ValueError('expected input to be 4d')\n",
    "\tif x.dtype != torch.float:\n",
    "\t\traise ValueError('expected input to have type float')\n",
    "\n",
    "\treturn torch.clamp((x - logit_laplace_eps) / (1 - 2 * logit_laplace_eps), 0, 1)"
   ]
  },
  {
   "cell_type": "code",
   "execution_count": null,
   "id": "5d0b8f28",
   "metadata": {},
   "outputs": [],
   "source": [
    "import torchvision.transforms as T\n",
    "x_rec=(model.decode(quant)).float()\n",
    "x_rec=unmap_pixels(torch.sigmoid(x_rec[:, :3]))\n",
    "T.ToPILImage(mode='RGB')(x_rec[0])"
   ]
  }
 ],
 "metadata": {
  "kernelspec": {
   "display_name": "Python 3",
   "language": "python",
   "name": "python3"
  },
  "language_info": {
   "codemirror_mode": {
    "name": "ipython",
    "version": 3
   },
   "file_extension": ".py",
   "mimetype": "text/x-python",
   "name": "python",
   "nbconvert_exporter": "python",
   "pygments_lexer": "ipython3",
   "version": "3.8.5"
  }
 },
 "nbformat": 4,
 "nbformat_minor": 5
}
